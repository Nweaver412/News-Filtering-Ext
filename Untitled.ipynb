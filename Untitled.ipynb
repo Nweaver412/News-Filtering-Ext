{
 "cells": [
  {
   "cell_type": "code",
   "execution_count": 4,
   "id": "3a32f868-8305-4fc7-b50c-e5dfa1b3b666",
   "metadata": {},
   "outputs": [
    {
     "name": "stdout",
     "output_type": "stream",
     "text": [
      "[{'url': 'https://www.forbes.com/sites/leokamin/2024/06/26/here-are-trumps-10-biggest-billionaire-donors-mcmahon-mellon-uiehlein/', 'title': 'Here Are Trump’s 10 Biggest Billionaire Donors'}]\n"
     ]
    }
   ],
   "source": [
    "import requests\n",
    "from bs4 import BeautifulSoup\n",
    "import logging\n",
    "\n",
    "# Setup logging\n",
    "logging.basicConfig(level=logging.DEBUG, filename='scraper.log', filemode='w')\n",
    "\n",
    "# Function to scrape website for article titles containing keywords\n",
    "def scrape_website_for_text_with_keywords(url, keywords):\n",
    "    try:\n",
    "        logging.debug(f\"Scraping URL: {url} with keywords: {keywords}\")\n",
    "        response = requests.get(url)\n",
    "        soup = BeautifulSoup(response.text, 'html.parser')\n",
    "        \n",
    "        matching_texts = []\n",
    "        \n",
    "        for element in soup.find_all(text=True):\n",
    "            text = element.strip()\n",
    "            if text and any(keyword.lower() in text.lower() for keyword in keywords):\n",
    "                logging.debug(f\"Found matching text: {text}\")\n",
    "                matching_texts.append(text)\n",
    "        \n",
    "        logging.debug(f\"Found {len(matching_texts)} matching texts\")\n",
    "        return matching_texts\n",
    "    except Exception as e:\n",
    "        logging.error(f\"Error scraping {url}: {str(e)}\")\n",
    "        return []\n",
    "\n",
    "url = \"https://www.forbes.com/\"\n",
    "keywords = [\"Trump\"]  \n",
    "# Call the function and print the results\n",
    "results = scrape_website(url, keywords)\n",
    "print(results)"
   ]
  },
  {
   "cell_type": "code",
   "execution_count": null,
   "id": "2413429a-fcc5-4265-9289-a89d1efcb794",
   "metadata": {},
   "outputs": [],
   "source": []
  }
 ],
 "metadata": {
  "kernelspec": {
   "display_name": "Python 3 (ipykernel)",
   "language": "python",
   "name": "python3"
  },
  "language_info": {
   "codemirror_mode": {
    "name": "ipython",
    "version": 3
   },
   "file_extension": ".py",
   "mimetype": "text/x-python",
   "name": "python",
   "nbconvert_exporter": "python",
   "pygments_lexer": "ipython3",
   "version": "3.11.7"
  }
 },
 "nbformat": 4,
 "nbformat_minor": 5
}
